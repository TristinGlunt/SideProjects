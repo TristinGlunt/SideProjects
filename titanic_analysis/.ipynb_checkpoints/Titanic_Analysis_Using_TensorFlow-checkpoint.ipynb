{
 "cells": [
  {
   "cell_type": "markdown",
   "metadata": {},
   "source": [
    "<img src=\"images/mountain_header.jpg\">"
   ]
  },
  {
   "cell_type": "markdown",
   "metadata": {},
   "source": [
    "# Titanic Disaster Analysis"
   ]
  },
  {
   "cell_type": "markdown",
   "metadata": {},
   "source": [
    "### Using Machine Learning and Neural Networks to Analyze the Titanic Dataset for Absolute Beginners (Part 1)\n",
    "Getting started in the erupting field of machine learning (ML) and data science can seem like quite the feat when you keep reading article after article of different approaches to launch your future career. When I was first starting to learn about the field and read about Kaggle competitions, there where three major parts, each of which I found would be equally a daunting expedition. In this article, I will demonstrate using all  three of the major parts, that is: \n",
    "1. Data pre-processing \n",
    "2. Neural Networks w/ TensorFlow\n",
    "3. Pre-built ML algorithms from scikit-learn\n",
    "\n",
    "We will use the above concepts to gain information from the famous beginners data set, the Titanic Disaster. After reading this article, you should be able to understand a ML workflow and will achieve ~80% accuracy on the Kaggle competition. You should gain insight on how to pre-process the data given to you from the dataset, how to build a neural network with TensorFlow, and finally how to use some pre-built ML algorithms from scikit-learn. \n",
    "\n",
    "Now, let's go ahead and get started!"
   ]
  },
  {
   "cell_type": "code",
   "execution_count": 4,
   "metadata": {},
   "outputs": [],
   "source": [
    "import math\n",
    "import numpy as np\n",
    "import pandas as pd\n",
    "import matplotlib.pyplot as plt\n",
    "import tensorflow as tf"
   ]
  },
  {
   "cell_type": "markdown",
   "metadata": {},
   "source": [
    "We first are going to want to import the data from the datasets provided."
   ]
  },
  {
   "cell_type": "code",
   "execution_count": 1,
   "metadata": {},
   "outputs": [],
   "source": [
    "\"\"\"\n",
    "Kaggle competition - Titanic Disaster\n",
    "@author: Tristin Glunt\n",
    "\"\"\"\n",
    "\n",
    "import math\n",
    "import numpy as np\n",
    "import matplotlib.pyplot as plt\n",
    "import tensorflow as tf\n",
    "import pandas as pd\n",
    "\n",
    "tf.reset_default_graph();\n",
    "\n",
    "#importing data\n",
    "dataset = pd.read_csv('train.csv')"
   ]
  },
  {
   "cell_type": "code",
   "execution_count": null,
   "metadata": {},
   "outputs": [],
   "source": []
  },
  {
   "cell_type": "markdown",
   "metadata": {},
   "source": [
    "Inspect the dataset."
   ]
  },
  {
   "cell_type": "code",
   "execution_count": null,
   "metadata": {},
   "outputs": [],
   "source": []
  },
  {
   "cell_type": "code",
   "execution_count": null,
   "metadata": {},
   "outputs": [],
   "source": []
  }
 ],
 "metadata": {
  "kernelspec": {
   "display_name": "Python 3",
   "language": "python",
   "name": "python3"
  },
  "language_info": {
   "codemirror_mode": {
    "name": "ipython",
    "version": 3
   },
   "file_extension": ".py",
   "mimetype": "text/x-python",
   "name": "python",
   "nbconvert_exporter": "python",
   "pygments_lexer": "ipython3",
   "version": "3.6.3"
  }
 },
 "nbformat": 4,
 "nbformat_minor": 2
}
